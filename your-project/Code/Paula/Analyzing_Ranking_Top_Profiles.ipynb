{
 "cells": [
  {
   "cell_type": "code",
   "execution_count": 58,
   "metadata": {},
   "outputs": [],
   "source": [
    "import pandas as pd "
   ]
  },
  {
   "cell_type": "code",
   "execution_count": 59,
   "metadata": {},
   "outputs": [],
   "source": [
    "names = pd.read_csv(\"table_1\", index_col = \"Unnamed: 0\")"
   ]
  },
  {
   "cell_type": "code",
   "execution_count": 60,
   "metadata": {},
   "outputs": [],
   "source": [
    "profiles = pd.read_csv(\"table4\", index_col = \"Unnamed: 0\")"
   ]
  },
  {
   "cell_type": "code",
   "execution_count": 61,
   "metadata": {},
   "outputs": [
    {
     "data": {
      "text/html": [
       "<div>\n",
       "<style scoped>\n",
       "    .dataframe tbody tr th:only-of-type {\n",
       "        vertical-align: middle;\n",
       "    }\n",
       "\n",
       "    .dataframe tbody tr th {\n",
       "        vertical-align: top;\n",
       "    }\n",
       "\n",
       "    .dataframe thead th {\n",
       "        text-align: right;\n",
       "    }\n",
       "</style>\n",
       "<table border=\"1\" class=\"dataframe\">\n",
       "  <thead>\n",
       "    <tr style=\"text-align: right;\">\n",
       "      <th></th>\n",
       "      <th>Athlete Name</th>\n",
       "      <th>IDs</th>\n",
       "    </tr>\n",
       "  </thead>\n",
       "  <tbody>\n",
       "    <tr>\n",
       "      <th>0</th>\n",
       "      <td>Riejanne  Markus</td>\n",
       "      <td>1646454</td>\n",
       "    </tr>\n",
       "    <tr>\n",
       "      <th>1</th>\n",
       "      <td>José M. Gutierrez \"Gallu\"</td>\n",
       "      <td>4106343</td>\n",
       "    </tr>\n",
       "    <tr>\n",
       "      <th>2</th>\n",
       "      <td>Johannes Weber #Radsyndikat</td>\n",
       "      <td>2647704</td>\n",
       "    </tr>\n",
       "    <tr>\n",
       "      <th>3</th>\n",
       "      <td>Sam (BigUnit) Long</td>\n",
       "      <td>6478752</td>\n",
       "    </tr>\n",
       "    <tr>\n",
       "      <th>4</th>\n",
       "      <td>John Kenny (French Creek Racing)</td>\n",
       "      <td>777443</td>\n",
       "    </tr>\n",
       "  </tbody>\n",
       "</table>\n",
       "</div>"
      ],
      "text/plain": [
       "                       Athlete Name      IDs\n",
       "0                  Riejanne  Markus  1646454\n",
       "1         José M. Gutierrez \"Gallu\"  4106343\n",
       "2       Johannes Weber #Radsyndikat  2647704\n",
       "3                Sam (BigUnit) Long  6478752\n",
       "4  John Kenny (French Creek Racing)   777443"
      ]
     },
     "execution_count": 61,
     "metadata": {},
     "output_type": "execute_result"
    }
   ],
   "source": [
    "names.head() #Checking that the table has been correctly imported"
   ]
  },
  {
   "cell_type": "code",
   "execution_count": 62,
   "metadata": {},
   "outputs": [
    {
     "data": {
      "text/html": [
       "<div>\n",
       "<style scoped>\n",
       "    .dataframe tbody tr th:only-of-type {\n",
       "        vertical-align: middle;\n",
       "    }\n",
       "\n",
       "    .dataframe tbody tr th {\n",
       "        vertical-align: top;\n",
       "    }\n",
       "\n",
       "    .dataframe thead th {\n",
       "        text-align: right;\n",
       "    }\n",
       "</style>\n",
       "<table border=\"1\" class=\"dataframe\">\n",
       "  <thead>\n",
       "    <tr style=\"text-align: right;\">\n",
       "      <th></th>\n",
       "      <th>IDs</th>\n",
       "      <th>Times training the last 6 weeks</th>\n",
       "      <th>Followers</th>\n",
       "      <th>Following</th>\n",
       "    </tr>\n",
       "  </thead>\n",
       "  <tbody>\n",
       "    <tr>\n",
       "      <th>0</th>\n",
       "      <td>1646454</td>\n",
       "      <td>6</td>\n",
       "      <td>1449</td>\n",
       "      <td>93</td>\n",
       "    </tr>\n",
       "    <tr>\n",
       "      <th>1</th>\n",
       "      <td>4106343</td>\n",
       "      <td>20</td>\n",
       "      <td>631</td>\n",
       "      <td>88</td>\n",
       "    </tr>\n",
       "    <tr>\n",
       "      <th>2</th>\n",
       "      <td>2647704</td>\n",
       "      <td>0</td>\n",
       "      <td>240</td>\n",
       "      <td>72</td>\n",
       "    </tr>\n",
       "    <tr>\n",
       "      <th>3</th>\n",
       "      <td>6478752</td>\n",
       "      <td>23</td>\n",
       "      <td>2069</td>\n",
       "      <td>47</td>\n",
       "    </tr>\n",
       "    <tr>\n",
       "      <th>4</th>\n",
       "      <td>777443</td>\n",
       "      <td>9</td>\n",
       "      <td>836</td>\n",
       "      <td>298</td>\n",
       "    </tr>\n",
       "  </tbody>\n",
       "</table>\n",
       "</div>"
      ],
      "text/plain": [
       "       IDs  Times training the last 6 weeks  Followers  Following\n",
       "0  1646454                                6       1449         93\n",
       "1  4106343                               20        631         88\n",
       "2  2647704                                0        240         72\n",
       "3  6478752                               23       2069         47\n",
       "4   777443                                9        836        298"
      ]
     },
     "execution_count": 62,
     "metadata": {},
     "output_type": "execute_result"
    }
   ],
   "source": [
    "profiles.head() #Checking that the table has been correctly imported "
   ]
  },
  {
   "cell_type": "code",
   "execution_count": 63,
   "metadata": {},
   "outputs": [
    {
     "data": {
      "text/plain": [
       "1956"
      ]
     },
     "execution_count": 63,
     "metadata": {},
     "output_type": "execute_result"
    }
   ],
   "source": [
    "len(names) #Checking that both tables have the same entries "
   ]
  },
  {
   "cell_type": "code",
   "execution_count": 64,
   "metadata": {},
   "outputs": [
    {
     "data": {
      "text/plain": [
       "1956"
      ]
     },
     "execution_count": 64,
     "metadata": {},
     "output_type": "execute_result"
    }
   ],
   "source": [
    "len(profiles) "
   ]
  },
  {
   "cell_type": "code",
   "execution_count": 65,
   "metadata": {},
   "outputs": [],
   "source": [
    "dataframe = pd.merge(names,profiles,on='IDs',how='left')\n"
   ]
  },
  {
   "cell_type": "code",
   "execution_count": 66,
   "metadata": {},
   "outputs": [
    {
     "data": {
      "text/html": [
       "<div>\n",
       "<style scoped>\n",
       "    .dataframe tbody tr th:only-of-type {\n",
       "        vertical-align: middle;\n",
       "    }\n",
       "\n",
       "    .dataframe tbody tr th {\n",
       "        vertical-align: top;\n",
       "    }\n",
       "\n",
       "    .dataframe thead th {\n",
       "        text-align: right;\n",
       "    }\n",
       "</style>\n",
       "<table border=\"1\" class=\"dataframe\">\n",
       "  <thead>\n",
       "    <tr style=\"text-align: right;\">\n",
       "      <th></th>\n",
       "      <th>Athlete Name</th>\n",
       "      <th>IDs</th>\n",
       "      <th>Times training the last 6 weeks</th>\n",
       "      <th>Followers</th>\n",
       "      <th>Following</th>\n",
       "    </tr>\n",
       "  </thead>\n",
       "  <tbody>\n",
       "    <tr>\n",
       "      <th>0</th>\n",
       "      <td>Riejanne  Markus</td>\n",
       "      <td>1646454</td>\n",
       "      <td>6</td>\n",
       "      <td>1449</td>\n",
       "      <td>93</td>\n",
       "    </tr>\n",
       "    <tr>\n",
       "      <th>1</th>\n",
       "      <td>José M. Gutierrez \"Gallu\"</td>\n",
       "      <td>4106343</td>\n",
       "      <td>20</td>\n",
       "      <td>631</td>\n",
       "      <td>88</td>\n",
       "    </tr>\n",
       "    <tr>\n",
       "      <th>2</th>\n",
       "      <td>Johannes Weber #Radsyndikat</td>\n",
       "      <td>2647704</td>\n",
       "      <td>0</td>\n",
       "      <td>240</td>\n",
       "      <td>72</td>\n",
       "    </tr>\n",
       "    <tr>\n",
       "      <th>3</th>\n",
       "      <td>Sam (BigUnit) Long</td>\n",
       "      <td>6478752</td>\n",
       "      <td>23</td>\n",
       "      <td>2069</td>\n",
       "      <td>47</td>\n",
       "    </tr>\n",
       "    <tr>\n",
       "      <th>4</th>\n",
       "      <td>John Kenny (French Creek Racing)</td>\n",
       "      <td>777443</td>\n",
       "      <td>9</td>\n",
       "      <td>836</td>\n",
       "      <td>298</td>\n",
       "    </tr>\n",
       "    <tr>\n",
       "      <th>...</th>\n",
       "      <td>...</td>\n",
       "      <td>...</td>\n",
       "      <td>...</td>\n",
       "      <td>...</td>\n",
       "      <td>...</td>\n",
       "    </tr>\n",
       "    <tr>\n",
       "      <th>4563</th>\n",
       "      <td>Amity 🌞</td>\n",
       "      <td>1004493</td>\n",
       "      <td>0</td>\n",
       "      <td>4849</td>\n",
       "      <td>16</td>\n",
       "    </tr>\n",
       "    <tr>\n",
       "      <th>4564</th>\n",
       "      <td>Amity 🌞</td>\n",
       "      <td>1004493</td>\n",
       "      <td>0</td>\n",
       "      <td>4849</td>\n",
       "      <td>16</td>\n",
       "    </tr>\n",
       "    <tr>\n",
       "      <th>4565</th>\n",
       "      <td>John Ellis 🌪 T8.run</td>\n",
       "      <td>6136</td>\n",
       "      <td>15</td>\n",
       "      <td>640</td>\n",
       "      <td>201</td>\n",
       "    </tr>\n",
       "    <tr>\n",
       "      <th>4566</th>\n",
       "      <td>John Ellis 🌪 T8.run</td>\n",
       "      <td>6136</td>\n",
       "      <td>15</td>\n",
       "      <td>640</td>\n",
       "      <td>201</td>\n",
       "    </tr>\n",
       "    <tr>\n",
       "      <th>4567</th>\n",
       "      <td>John Ellis 🌪 T8.run</td>\n",
       "      <td>6136</td>\n",
       "      <td>15</td>\n",
       "      <td>640</td>\n",
       "      <td>201</td>\n",
       "    </tr>\n",
       "  </tbody>\n",
       "</table>\n",
       "<p>4568 rows × 5 columns</p>\n",
       "</div>"
      ],
      "text/plain": [
       "                          Athlete Name      IDs  \\\n",
       "0                     Riejanne  Markus  1646454   \n",
       "1            José M. Gutierrez \"Gallu\"  4106343   \n",
       "2          Johannes Weber #Radsyndikat  2647704   \n",
       "3                   Sam (BigUnit) Long  6478752   \n",
       "4     John Kenny (French Creek Racing)   777443   \n",
       "...                                ...      ...   \n",
       "4563                           Amity 🌞  1004493   \n",
       "4564                           Amity 🌞  1004493   \n",
       "4565               John Ellis 🌪 T8.run     6136   \n",
       "4566               John Ellis 🌪 T8.run     6136   \n",
       "4567               John Ellis 🌪 T8.run     6136   \n",
       "\n",
       "      Times training the last 6 weeks  Followers  Following  \n",
       "0                                   6       1449         93  \n",
       "1                                  20        631         88  \n",
       "2                                   0        240         72  \n",
       "3                                  23       2069         47  \n",
       "4                                   9        836        298  \n",
       "...                               ...        ...        ...  \n",
       "4563                                0       4849         16  \n",
       "4564                                0       4849         16  \n",
       "4565                               15        640        201  \n",
       "4566                               15        640        201  \n",
       "4567                               15        640        201  \n",
       "\n",
       "[4568 rows x 5 columns]"
      ]
     },
     "execution_count": 66,
     "metadata": {},
     "output_type": "execute_result"
    }
   ],
   "source": [
    "dataframe #merged dataframe using the IDs columns. "
   ]
  },
  {
   "cell_type": "code",
   "execution_count": 67,
   "metadata": {},
   "outputs": [
    {
     "name": "stdout",
     "output_type": "stream",
     "text": [
      "<class 'pandas.core.frame.DataFrame'>\n",
      "Int64Index: 4568 entries, 0 to 4567\n",
      "Data columns (total 5 columns):\n",
      " #   Column                           Non-Null Count  Dtype \n",
      "---  ------                           --------------  ----- \n",
      " 0   Athlete Name                     4568 non-null   object\n",
      " 1   IDs                              4568 non-null   int64 \n",
      " 2   Times training the last 6 weeks  4568 non-null   int64 \n",
      " 3   Followers                        4568 non-null   int64 \n",
      " 4   Following                        4568 non-null   int64 \n",
      "dtypes: int64(4), object(1)\n",
      "memory usage: 214.1+ KB\n"
     ]
    }
   ],
   "source": [
    "dataframe.info()"
   ]
  },
  {
   "cell_type": "code",
   "execution_count": 71,
   "metadata": {},
   "outputs": [],
   "source": [
    "dataframe_copy = dataframe.drop_duplicates(subset =\"IDs\", \n",
    "                     keep = False) "
   ]
  },
  {
   "cell_type": "code",
   "execution_count": 79,
   "metadata": {},
   "outputs": [
    {
     "name": "stderr",
     "output_type": "stream",
     "text": [
      "<ipython-input-79-d9d6233216ea>:1: SettingWithCopyWarning: \n",
      "A value is trying to be set on a copy of a slice from a DataFrame.\n",
      "Try using .loc[row_indexer,col_indexer] = value instead\n",
      "\n",
      "See the caveats in the documentation: https://pandas.pydata.org/pandas-docs/stable/user_guide/indexing.html#returning-a-view-versus-a-copy\n",
      "  dataframe_copy[\"Ranking\"] = [number for number in range(1,554)]\n"
     ]
    }
   ],
   "source": [
    "dataframe_copy[\"Ranking\"] = [number for number in range(1,554)]"
   ]
  },
  {
   "cell_type": "code",
   "execution_count": 80,
   "metadata": {},
   "outputs": [
    {
     "data": {
      "text/html": [
       "<div>\n",
       "<style scoped>\n",
       "    .dataframe tbody tr th:only-of-type {\n",
       "        vertical-align: middle;\n",
       "    }\n",
       "\n",
       "    .dataframe tbody tr th {\n",
       "        vertical-align: top;\n",
       "    }\n",
       "\n",
       "    .dataframe thead th {\n",
       "        text-align: right;\n",
       "    }\n",
       "</style>\n",
       "<table border=\"1\" class=\"dataframe\">\n",
       "  <thead>\n",
       "    <tr style=\"text-align: right;\">\n",
       "      <th></th>\n",
       "      <th>Athlete Name</th>\n",
       "      <th>IDs</th>\n",
       "      <th>Times training the last 6 weeks</th>\n",
       "      <th>Followers</th>\n",
       "      <th>Following</th>\n",
       "      <th>Ranking</th>\n",
       "    </tr>\n",
       "  </thead>\n",
       "  <tbody>\n",
       "    <tr>\n",
       "      <th>0</th>\n",
       "      <td>Riejanne  Markus</td>\n",
       "      <td>1646454</td>\n",
       "      <td>6</td>\n",
       "      <td>1449</td>\n",
       "      <td>93</td>\n",
       "      <td>1</td>\n",
       "    </tr>\n",
       "    <tr>\n",
       "      <th>1</th>\n",
       "      <td>José M. Gutierrez \"Gallu\"</td>\n",
       "      <td>4106343</td>\n",
       "      <td>20</td>\n",
       "      <td>631</td>\n",
       "      <td>88</td>\n",
       "      <td>2</td>\n",
       "    </tr>\n",
       "    <tr>\n",
       "      <th>2</th>\n",
       "      <td>Johannes Weber #Radsyndikat</td>\n",
       "      <td>2647704</td>\n",
       "      <td>0</td>\n",
       "      <td>240</td>\n",
       "      <td>72</td>\n",
       "      <td>3</td>\n",
       "    </tr>\n",
       "    <tr>\n",
       "      <th>3</th>\n",
       "      <td>Sam (BigUnit) Long</td>\n",
       "      <td>6478752</td>\n",
       "      <td>23</td>\n",
       "      <td>2069</td>\n",
       "      <td>47</td>\n",
       "      <td>4</td>\n",
       "    </tr>\n",
       "    <tr>\n",
       "      <th>4</th>\n",
       "      <td>John Kenny (French Creek Racing)</td>\n",
       "      <td>777443</td>\n",
       "      <td>9</td>\n",
       "      <td>836</td>\n",
       "      <td>298</td>\n",
       "      <td>5</td>\n",
       "    </tr>\n",
       "    <tr>\n",
       "      <th>...</th>\n",
       "      <td>...</td>\n",
       "      <td>...</td>\n",
       "      <td>...</td>\n",
       "      <td>...</td>\n",
       "      <td>...</td>\n",
       "      <td>...</td>\n",
       "    </tr>\n",
       "    <tr>\n",
       "      <th>1951</th>\n",
       "      <td>Alex Luhrs | Team Ribble</td>\n",
       "      <td>409358</td>\n",
       "      <td>0</td>\n",
       "      <td>323</td>\n",
       "      <td>70</td>\n",
       "      <td>549</td>\n",
       "    </tr>\n",
       "    <tr>\n",
       "      <th>1952</th>\n",
       "      <td>Sindre Skjøstad Lunke</td>\n",
       "      <td>787499</td>\n",
       "      <td>0</td>\n",
       "      <td>1209</td>\n",
       "      <td>189</td>\n",
       "      <td>550</td>\n",
       "    </tr>\n",
       "    <tr>\n",
       "      <th>1953</th>\n",
       "      <td>Sion Lupowitz</td>\n",
       "      <td>6724983</td>\n",
       "      <td>14</td>\n",
       "      <td>444</td>\n",
       "      <td>191</td>\n",
       "      <td>551</td>\n",
       "    </tr>\n",
       "    <tr>\n",
       "      <th>1954</th>\n",
       "      <td>Alexey Lutsenko</td>\n",
       "      <td>19220743</td>\n",
       "      <td>0</td>\n",
       "      <td>5176</td>\n",
       "      <td>16</td>\n",
       "      <td>552</td>\n",
       "    </tr>\n",
       "    <tr>\n",
       "      <th>1955</th>\n",
       "      <td>Matt Lyons</td>\n",
       "      <td>130052</td>\n",
       "      <td>0</td>\n",
       "      <td>98</td>\n",
       "      <td>23</td>\n",
       "      <td>553</td>\n",
       "    </tr>\n",
       "  </tbody>\n",
       "</table>\n",
       "<p>553 rows × 6 columns</p>\n",
       "</div>"
      ],
      "text/plain": [
       "                          Athlete Name       IDs  \\\n",
       "0                     Riejanne  Markus   1646454   \n",
       "1            José M. Gutierrez \"Gallu\"   4106343   \n",
       "2          Johannes Weber #Radsyndikat   2647704   \n",
       "3                   Sam (BigUnit) Long   6478752   \n",
       "4     John Kenny (French Creek Racing)    777443   \n",
       "...                                ...       ...   \n",
       "1951          Alex Luhrs | Team Ribble    409358   \n",
       "1952             Sindre Skjøstad Lunke    787499   \n",
       "1953                     Sion Lupowitz   6724983   \n",
       "1954                   Alexey Lutsenko  19220743   \n",
       "1955                        Matt Lyons    130052   \n",
       "\n",
       "      Times training the last 6 weeks  Followers  Following  Ranking  \n",
       "0                                   6       1449         93        1  \n",
       "1                                  20        631         88        2  \n",
       "2                                   0        240         72        3  \n",
       "3                                  23       2069         47        4  \n",
       "4                                   9        836        298        5  \n",
       "...                               ...        ...        ...      ...  \n",
       "1951                                0        323         70      549  \n",
       "1952                                0       1209        189      550  \n",
       "1953                               14        444        191      551  \n",
       "1954                                0       5176         16      552  \n",
       "1955                                0         98         23      553  \n",
       "\n",
       "[553 rows x 6 columns]"
      ]
     },
     "execution_count": 80,
     "metadata": {},
     "output_type": "execute_result"
    }
   ],
   "source": [
    "dataframe_copy"
   ]
  },
  {
   "cell_type": "code",
   "execution_count": 81,
   "metadata": {},
   "outputs": [],
   "source": [
    "dataframe_final = dataframe_copy"
   ]
  },
  {
   "cell_type": "code",
   "execution_count": 82,
   "metadata": {},
   "outputs": [],
   "source": [
    "dataframe_final.to_csv(\"Ranking\")"
   ]
  }
 ],
 "metadata": {
  "kernelspec": {
   "display_name": "Python 3",
   "language": "python",
   "name": "python3"
  },
  "language_info": {
   "codemirror_mode": {
    "name": "ipython",
    "version": 3
   },
   "file_extension": ".py",
   "mimetype": "text/x-python",
   "name": "python",
   "nbconvert_exporter": "python",
   "pygments_lexer": "ipython3",
   "version": "3.8.2"
  }
 },
 "nbformat": 4,
 "nbformat_minor": 4
}
