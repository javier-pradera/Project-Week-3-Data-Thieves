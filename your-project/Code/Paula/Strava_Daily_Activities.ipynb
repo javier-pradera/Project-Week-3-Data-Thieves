{
 "cells": [
  {
   "cell_type": "code",
   "execution_count": 1,
   "metadata": {},
   "outputs": [],
   "source": [
    "#importing libraries\n",
    "\n",
    "import pandas as pd\n",
    "import requests\n",
    "import re \n",
    "import json \n",
    "from bs4 import BeautifulSoup as Soup"
   ]
  },
  {
   "cell_type": "code",
   "execution_count": 2,
   "metadata": {},
   "outputs": [],
   "source": [
    "#Since I'm having trouble accessing top profiles activities, let's try to grab it from the website."
   ]
  },
  {
   "cell_type": "code",
   "execution_count": 3,
   "metadata": {},
   "outputs": [],
   "source": [
    "url = \"https://www.strava.com/pros/1646454\"\n",
    "\n",
    "#let's request the info\n",
    "page = requests.get(url)\n",
    "soup = Soup(page.content, \"html.parser\")"
   ]
  },
  {
   "cell_type": "code",
   "execution_count": 9,
   "metadata": {},
   "outputs": [
    {
     "data": {
      "text/plain": [
       "['/pros/1646454#interval?interval=201928&interval_type=week&chart_type=miles&year_offset=0',\n",
       " '/pros/1646454#interval?interval=201929&interval_type=week&chart_type=miles&year_offset=0',\n",
       " '/pros/1646454#interval?interval=201930&interval_type=week&chart_type=miles&year_offset=0',\n",
       " '/pros/1646454#interval?interval=201932&interval_type=week&chart_type=miles&year_offset=0',\n",
       " '/pros/1646454#interval?interval=201933&interval_type=week&chart_type=miles&year_offset=0',\n",
       " '/pros/1646454#interval?interval=201934&interval_type=week&chart_type=miles&year_offset=0',\n",
       " '/pros/1646454#interval?interval=201936&interval_type=week&chart_type=miles&year_offset=0',\n",
       " '/pros/1646454#interval?interval=201938&interval_type=week&chart_type=miles&year_offset=0',\n",
       " '/pros/1646454#interval?interval=201939&interval_type=week&chart_type=miles&year_offset=0',\n",
       " '/pros/1646454#interval?interval=201943&interval_type=week&chart_type=miles&year_offset=0',\n",
       " '/pros/1646454#interval?interval=201944&interval_type=week&chart_type=miles&year_offset=0',\n",
       " '/pros/1646454#interval?interval=201945&interval_type=week&chart_type=miles&year_offset=0',\n",
       " '/pros/1646454#interval?interval=201946&interval_type=week&chart_type=miles&year_offset=0',\n",
       " '/pros/1646454#interval?interval=201947&interval_type=week&chart_type=miles&year_offset=0',\n",
       " '/pros/1646454#interval?interval=201948&interval_type=week&chart_type=miles&year_offset=0',\n",
       " '/pros/1646454#interval?interval=201949&interval_type=week&chart_type=miles&year_offset=0',\n",
       " '/pros/1646454#interval?interval=201950&interval_type=week&chart_type=miles&year_offset=0',\n",
       " '/pros/1646454#interval?interval=201951&interval_type=week&chart_type=miles&year_offset=0',\n",
       " '/pros/1646454#interval?interval=201952&interval_type=week&chart_type=miles&year_offset=0',\n",
       " '/pros/1646454#interval?interval=202001&interval_type=week&chart_type=miles&year_offset=0',\n",
       " '/pros/1646454#interval?interval=202002&interval_type=week&chart_type=miles&year_offset=0',\n",
       " '/pros/1646454#interval?interval=202003&interval_type=week&chart_type=miles&year_offset=0',\n",
       " '/pros/1646454#interval?interval=202004&interval_type=week&chart_type=miles&year_offset=0',\n",
       " '/pros/1646454#interval?interval=202005&interval_type=week&chart_type=miles&year_offset=0',\n",
       " '/pros/1646454#interval?interval=202006&interval_type=week&chart_type=miles&year_offset=0',\n",
       " '/pros/1646454#interval?interval=202010&interval_type=week&chart_type=miles&year_offset=0',\n",
       " '/pros/1646454#interval?interval=202014&interval_type=week&chart_type=miles&year_offset=0',\n",
       " '/pros/1646454#interval?interval=202015&interval_type=week&chart_type=miles&year_offset=0',\n",
       " '/pros/1646454#interval?interval=202016&interval_type=week&chart_type=miles&year_offset=0',\n",
       " '/pros/1646454#interval?interval=202017&interval_type=week&chart_type=miles&year_offset=0',\n",
       " '/pros/1646454#interval?interval=202018&interval_type=week&chart_type=miles&year_offset=0',\n",
       " '/pros/1646454#interval?interval=202019&interval_type=week&chart_type=miles&year_offset=0',\n",
       " '/pros/1646454#interval?interval=202020&interval_type=week&chart_type=miles&year_offset=0',\n",
       " '/pros/1646454#interval?interval=202022&interval_type=week&chart_type=miles&year_offset=0',\n",
       " '/pros/1646454#interval?interval=202025&interval_type=week&chart_type=miles&year_offset=0',\n",
       " '/pros/1646454#interval?interval=202026&interval_type=week&chart_type=miles&year_offset=0',\n",
       " '/pros/1646454#interval?interval=202027&interval_type=week&chart_type=miles&year_offset=0',\n",
       " '/pros/1646454#interval?interval=202028&interval_type=week&chart_type=miles&year_offset=0']"
      ]
     },
     "execution_count": 9,
     "metadata": {},
     "output_type": "execute_result"
    }
   ],
   "source": [
    "day_activities = [element[\"href\"] for element in soup.select(\"div.athlete-graph ul.intervals\")[0].select(\"div.bar a.bar\")]\n",
    "\n",
    "day_activities"
   ]
  },
  {
   "cell_type": "code",
   "execution_count": 10,
   "metadata": {},
   "outputs": [],
   "source": [
    "#these are all the links of the activities of the user id 1646454 from august last year (2019) to yesterday."
   ]
  },
  {
   "cell_type": "code",
   "execution_count": 15,
   "metadata": {},
   "outputs": [],
   "source": [
    "#now let's try to grab the day, hour and place where she performed the activity on each of this entries.\n",
    "url = \"https://www.strava.com/pros/1646454#interval?interval=202028&interval_type=week&chart_type=miles&year_offset=0\"\n",
    "\n",
    "#let's request the info\n",
    "page = requests.get(url)\n",
    "soup = Soup(page.content, \"html.parser\")"
   ]
  },
  {
   "cell_type": "code",
   "execution_count": 17,
   "metadata": {},
   "outputs": [
    {
     "data": {
      "text/plain": [
       "[]"
      ]
     },
     "execution_count": 17,
     "metadata": {},
     "output_type": "execute_result"
    }
   ],
   "source": [
    "soup.select(\"div.entry-container\")"
   ]
  },
  {
   "cell_type": "code",
   "execution_count": null,
   "metadata": {},
   "outputs": [],
   "source": []
  }
 ],
 "metadata": {
  "kernelspec": {
   "display_name": "Python 3",
   "language": "python",
   "name": "python3"
  },
  "language_info": {
   "codemirror_mode": {
    "name": "ipython",
    "version": 3
   },
   "file_extension": ".py",
   "mimetype": "text/x-python",
   "name": "python",
   "nbconvert_exporter": "python",
   "pygments_lexer": "ipython3",
   "version": "3.7.4"
  }
 },
 "nbformat": 4,
 "nbformat_minor": 4
}
