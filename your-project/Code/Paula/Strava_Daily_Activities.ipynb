{
 "cells": [
  {
   "cell_type": "code",
   "execution_count": 1,
   "metadata": {},
   "outputs": [],
   "source": [
    "#importing libraries\n",
    "\n",
    "import pandas as pd\n",
    "import requests\n",
    "import re \n",
    "import json \n",
    "from bs4 import BeautifulSoup as Soup"
   ]
  },
  {
   "cell_type": "code",
   "execution_count": 2,
   "metadata": {},
   "outputs": [],
   "source": [
    "#Since I'm having trouble accessing top profiles activities, let's try to grab it from the website."
   ]
  },
  {
   "cell_type": "code",
   "execution_count": 3,
   "metadata": {},
   "outputs": [],
   "source": [
    "url = \"https://www.strava.com/pros/1646454\"\n",
    "\n",
    "#let's request the info\n",
    "page = requests.get(url)\n",
    "soup = Soup(page.content, \"html.parser\")"
   ]
  },
  {
   "cell_type": "code",
   "execution_count": 4,
   "metadata": {},
   "outputs": [
    {
     "data": {
      "text/plain": [
       "['/pros/1646454#interval?interval=201928&interval_type=week&chart_type=miles&year_offset=0',\n",
       " '/pros/1646454#interval?interval=201929&interval_type=week&chart_type=miles&year_offset=0',\n",
       " '/pros/1646454#interval?interval=201930&interval_type=week&chart_type=miles&year_offset=0',\n",
       " '/pros/1646454#interval?interval=201932&interval_type=week&chart_type=miles&year_offset=0',\n",
       " '/pros/1646454#interval?interval=201933&interval_type=week&chart_type=miles&year_offset=0',\n",
       " '/pros/1646454#interval?interval=201934&interval_type=week&chart_type=miles&year_offset=0',\n",
       " '/pros/1646454#interval?interval=201936&interval_type=week&chart_type=miles&year_offset=0',\n",
       " '/pros/1646454#interval?interval=201938&interval_type=week&chart_type=miles&year_offset=0',\n",
       " '/pros/1646454#interval?interval=201939&interval_type=week&chart_type=miles&year_offset=0',\n",
       " '/pros/1646454#interval?interval=201943&interval_type=week&chart_type=miles&year_offset=0',\n",
       " '/pros/1646454#interval?interval=201944&interval_type=week&chart_type=miles&year_offset=0',\n",
       " '/pros/1646454#interval?interval=201945&interval_type=week&chart_type=miles&year_offset=0',\n",
       " '/pros/1646454#interval?interval=201946&interval_type=week&chart_type=miles&year_offset=0',\n",
       " '/pros/1646454#interval?interval=201947&interval_type=week&chart_type=miles&year_offset=0',\n",
       " '/pros/1646454#interval?interval=201948&interval_type=week&chart_type=miles&year_offset=0',\n",
       " '/pros/1646454#interval?interval=201949&interval_type=week&chart_type=miles&year_offset=0',\n",
       " '/pros/1646454#interval?interval=201950&interval_type=week&chart_type=miles&year_offset=0',\n",
       " '/pros/1646454#interval?interval=201951&interval_type=week&chart_type=miles&year_offset=0',\n",
       " '/pros/1646454#interval?interval=201952&interval_type=week&chart_type=miles&year_offset=0',\n",
       " '/pros/1646454#interval?interval=202001&interval_type=week&chart_type=miles&year_offset=0',\n",
       " '/pros/1646454#interval?interval=202002&interval_type=week&chart_type=miles&year_offset=0',\n",
       " '/pros/1646454#interval?interval=202003&interval_type=week&chart_type=miles&year_offset=0',\n",
       " '/pros/1646454#interval?interval=202004&interval_type=week&chart_type=miles&year_offset=0',\n",
       " '/pros/1646454#interval?interval=202005&interval_type=week&chart_type=miles&year_offset=0',\n",
       " '/pros/1646454#interval?interval=202006&interval_type=week&chart_type=miles&year_offset=0',\n",
       " '/pros/1646454#interval?interval=202010&interval_type=week&chart_type=miles&year_offset=0',\n",
       " '/pros/1646454#interval?interval=202014&interval_type=week&chart_type=miles&year_offset=0',\n",
       " '/pros/1646454#interval?interval=202015&interval_type=week&chart_type=miles&year_offset=0',\n",
       " '/pros/1646454#interval?interval=202016&interval_type=week&chart_type=miles&year_offset=0',\n",
       " '/pros/1646454#interval?interval=202017&interval_type=week&chart_type=miles&year_offset=0',\n",
       " '/pros/1646454#interval?interval=202018&interval_type=week&chart_type=miles&year_offset=0',\n",
       " '/pros/1646454#interval?interval=202019&interval_type=week&chart_type=miles&year_offset=0',\n",
       " '/pros/1646454#interval?interval=202020&interval_type=week&chart_type=miles&year_offset=0',\n",
       " '/pros/1646454#interval?interval=202022&interval_type=week&chart_type=miles&year_offset=0',\n",
       " '/pros/1646454#interval?interval=202025&interval_type=week&chart_type=miles&year_offset=0',\n",
       " '/pros/1646454#interval?interval=202026&interval_type=week&chart_type=miles&year_offset=0',\n",
       " '/pros/1646454#interval?interval=202027&interval_type=week&chart_type=miles&year_offset=0',\n",
       " '/pros/1646454#interval?interval=202028&interval_type=week&chart_type=miles&year_offset=0']"
      ]
     },
     "execution_count": 4,
     "metadata": {},
     "output_type": "execute_result"
    }
   ],
   "source": [
    "day_activities = [element[\"href\"] for element in soup.select(\"div.athlete-graph ul.intervals\")[0].select(\"div.bar a.bar\")]\n",
    "\n",
    "day_activities"
   ]
  },
  {
   "cell_type": "code",
   "execution_count": 5,
   "metadata": {},
   "outputs": [],
   "source": [
    "#these are all the links of the activities of the user id 1646454 from august last year (2019) to yesterday."
   ]
  },
  {
   "cell_type": "code",
   "execution_count": 6,
   "metadata": {},
   "outputs": [],
   "source": [
    "#now let's try to grab the day, hour and place where she performed the activity on each of this entries.\n",
    "url = \"https://www.strava.com/pros/1646454#interval?interval=202028&interval_type=week&chart_type=miles&year_offset=0\"\n",
    "\n",
    "#let's request the info\n",
    "page = requests.get(url)\n",
    "soup = Soup(page.content, \"html.parser\")"
   ]
  },
  {
   "cell_type": "code",
   "execution_count": 18,
   "metadata": {},
   "outputs": [],
   "source": [
    "following = [element.get_text() for element in soup.find_all(\"div\", class_=\"section connections\")[0].select(\"a\")]"
   ]
  },
  {
   "cell_type": "code",
   "execution_count": 19,
   "metadata": {},
   "outputs": [
    {
     "data": {
      "text/plain": [
       "['93', '1448']"
      ]
     },
     "execution_count": 19,
     "metadata": {},
     "output_type": "execute_result"
    }
   ],
   "source": [
    "following #number of people they follow and number of people following them"
   ]
  },
  {
   "cell_type": "code",
   "execution_count": null,
   "metadata": {},
   "outputs": [],
   "source": [
    "#Are pro athletes considered better if they have more followers?"
   ]
  },
  {
   "cell_type": "code",
   "execution_count": 23,
   "metadata": {},
   "outputs": [
    {
     "data": {
      "text/plain": [
       "[<table>\n",
       " <caption class=\"vh\">Last four weeks of activity</caption>\n",
       " <thead>\n",
       " <tr>\n",
       " <th scope=\"col\">\n",
       " <div class=\"weekday\">M</div>\n",
       " </th>\n",
       " <th scope=\"col\">\n",
       " <div class=\"weekday\">T</div>\n",
       " </th>\n",
       " <th scope=\"col\">\n",
       " <div class=\"weekday\">W</div>\n",
       " </th>\n",
       " <th scope=\"col\">\n",
       " <div class=\"weekday\">T</div>\n",
       " </th>\n",
       " <th scope=\"col\">\n",
       " <div class=\"weekday\">F</div>\n",
       " </th>\n",
       " <th scope=\"col\">\n",
       " <div class=\"weekday\">S</div>\n",
       " </th>\n",
       " <th scope=\"col\">\n",
       " <div class=\"weekday\">S</div>\n",
       " </th>\n",
       " </tr>\n",
       " </thead>\n",
       " <tbody>\n",
       " <tr>\n",
       " <td class=\"day-wrapper\">\n",
       " <span class=\"day\">22</span>\n",
       " <span class=\"activity-indicator\"></span>\n",
       " <div class=\"vh\">0<abbr class=\"unit\" title=\"hour\">h</abbr> 0<abbr class=\"unit\" title=\"minute\">m</abbr></div>\n",
       " </td>\n",
       " <td class=\"day-wrapper\">\n",
       " <span class=\"day\">23</span>\n",
       " <span class=\"activity-indicator\"></span>\n",
       " <div class=\"vh\">0<abbr class=\"unit\" title=\"hour\">h</abbr> 0<abbr class=\"unit\" title=\"minute\">m</abbr></div>\n",
       " </td>\n",
       " <td class=\"day-wrapper highlighted\">\n",
       " <span class=\"day\">24</span>\n",
       " <span class=\"activity-indicator\" style=\"height: 10px; width: 10px;\"></span>\n",
       " <div class=\"vh\">0<abbr class=\"unit\" title=\"hour\">h</abbr> 30<abbr class=\"unit\" title=\"minute\">m</abbr></div>\n",
       " </td>\n",
       " <td class=\"day-wrapper\">\n",
       " <span class=\"day\">25</span>\n",
       " <span class=\"activity-indicator\"></span>\n",
       " <div class=\"vh\">0<abbr class=\"unit\" title=\"hour\">h</abbr> 0<abbr class=\"unit\" title=\"minute\">m</abbr></div>\n",
       " </td>\n",
       " <td class=\"day-wrapper\">\n",
       " <span class=\"day\">26</span>\n",
       " <span class=\"activity-indicator\"></span>\n",
       " <div class=\"vh\">0<abbr class=\"unit\" title=\"hour\">h</abbr> 0<abbr class=\"unit\" title=\"minute\">m</abbr></div>\n",
       " </td>\n",
       " <td class=\"day-wrapper\">\n",
       " <span class=\"day\">27</span>\n",
       " <span class=\"activity-indicator\"></span>\n",
       " <div class=\"vh\">0<abbr class=\"unit\" title=\"hour\">h</abbr> 0<abbr class=\"unit\" title=\"minute\">m</abbr></div>\n",
       " </td>\n",
       " <td class=\"day-wrapper\">\n",
       " <span class=\"day\">28</span>\n",
       " <span class=\"activity-indicator\"></span>\n",
       " <div class=\"vh\">0<abbr class=\"unit\" title=\"hour\">h</abbr> 0<abbr class=\"unit\" title=\"minute\">m</abbr></div>\n",
       " </td>\n",
       " </tr>\n",
       " <tr>\n",
       " <td class=\"day-wrapper\">\n",
       " <span class=\"day\">29</span>\n",
       " <span class=\"activity-indicator\"></span>\n",
       " <div class=\"vh\">0<abbr class=\"unit\" title=\"hour\">h</abbr> 0<abbr class=\"unit\" title=\"minute\">m</abbr></div>\n",
       " </td>\n",
       " <td class=\"day-wrapper\">\n",
       " <span class=\"day\">30</span>\n",
       " <span class=\"activity-indicator\"></span>\n",
       " <div class=\"vh\">0<abbr class=\"unit\" title=\"hour\">h</abbr> 0<abbr class=\"unit\" title=\"minute\">m</abbr></div>\n",
       " </td>\n",
       " <td class=\"day-wrapper highlighted\">\n",
       " <span class=\"day\">1</span>\n",
       " <span class=\"activity-indicator\" style=\"height: 19px; width: 19px;\"></span>\n",
       " <div class=\"vh\">3<abbr class=\"unit\" title=\"hour\">h</abbr> 26<abbr class=\"unit\" title=\"minute\">m</abbr></div>\n",
       " </td>\n",
       " <td class=\"day-wrapper\">\n",
       " <span class=\"day\">2</span>\n",
       " <span class=\"activity-indicator\"></span>\n",
       " <div class=\"vh\">0<abbr class=\"unit\" title=\"hour\">h</abbr> 0<abbr class=\"unit\" title=\"minute\">m</abbr></div>\n",
       " </td>\n",
       " <td class=\"day-wrapper highlighted\">\n",
       " <span class=\"day\">3</span>\n",
       " <span class=\"activity-indicator\" style=\"height: 13px; width: 13px;\"></span>\n",
       " <div class=\"vh\">1<abbr class=\"unit\" title=\"hour\">h</abbr> 14<abbr class=\"unit\" title=\"minute\">m</abbr></div>\n",
       " </td>\n",
       " <td class=\"day-wrapper highlighted\">\n",
       " <span class=\"day\">4</span>\n",
       " <span class=\"activity-indicator\" style=\"height: 22px; width: 22px;\"></span>\n",
       " <div class=\"vh\">4<abbr class=\"unit\" title=\"hour\">h</abbr> 19<abbr class=\"unit\" title=\"minute\">m</abbr></div>\n",
       " </td>\n",
       " <td class=\"day-wrapper\">\n",
       " <span class=\"day\">5</span>\n",
       " <span class=\"activity-indicator\"></span>\n",
       " <div class=\"vh\">0<abbr class=\"unit\" title=\"hour\">h</abbr> 0<abbr class=\"unit\" title=\"minute\">m</abbr></div>\n",
       " </td>\n",
       " </tr>\n",
       " <tr>\n",
       " <td class=\"day-wrapper\">\n",
       " <span class=\"day\">6</span>\n",
       " <span class=\"activity-indicator\"></span>\n",
       " <div class=\"vh\">0<abbr class=\"unit\" title=\"hour\">h</abbr> 0<abbr class=\"unit\" title=\"minute\">m</abbr></div>\n",
       " </td>\n",
       " <td class=\"day-wrapper\">\n",
       " <span class=\"day\">7</span>\n",
       " <span class=\"activity-indicator\"></span>\n",
       " <div class=\"vh\">0<abbr class=\"unit\" title=\"hour\">h</abbr> 0<abbr class=\"unit\" title=\"minute\">m</abbr></div>\n",
       " </td>\n",
       " <td class=\"day-wrapper\">\n",
       " <span class=\"day\">8</span>\n",
       " <span class=\"activity-indicator\"></span>\n",
       " <div class=\"vh\">0<abbr class=\"unit\" title=\"hour\">h</abbr> 0<abbr class=\"unit\" title=\"minute\">m</abbr></div>\n",
       " </td>\n",
       " <td class=\"day-wrapper highlighted\">\n",
       " <span class=\"day\">9</span>\n",
       " <span class=\"activity-indicator\" style=\"height: 21px; width: 21px;\"></span>\n",
       " <div class=\"vh\">3<abbr class=\"unit\" title=\"hour\">h</abbr> 55<abbr class=\"unit\" title=\"minute\">m</abbr></div>\n",
       " </td>\n",
       " <td class=\"day-wrapper\">\n",
       " <span class=\"day\">10</span>\n",
       " <span class=\"activity-indicator\"></span>\n",
       " <div class=\"vh\">0<abbr class=\"unit\" title=\"hour\">h</abbr> 0<abbr class=\"unit\" title=\"minute\">m</abbr></div>\n",
       " </td>\n",
       " <td class=\"day-wrapper highlighted\">\n",
       " <span class=\"day\">11</span>\n",
       " <span class=\"activity-indicator\" style=\"height: 13px; width: 13px;\"></span>\n",
       " <div class=\"vh\">1<abbr class=\"unit\" title=\"hour\">h</abbr> 18<abbr class=\"unit\" title=\"minute\">m</abbr></div>\n",
       " </td>\n",
       " <td class=\"day-wrapper\">\n",
       " <span class=\"day\">12</span>\n",
       " <span class=\"activity-indicator\"></span>\n",
       " <div class=\"vh\">0<abbr class=\"unit\" title=\"hour\">h</abbr> 0<abbr class=\"unit\" title=\"minute\">m</abbr></div>\n",
       " </td>\n",
       " </tr>\n",
       " <tr>\n",
       " <td class=\"day-wrapper\">\n",
       " <span class=\"day\">13</span>\n",
       " <span class=\"activity-indicator\"></span>\n",
       " <div class=\"vh\">0<abbr class=\"unit\" title=\"hour\">h</abbr> 0<abbr class=\"unit\" title=\"minute\">m</abbr></div>\n",
       " </td>\n",
       " <td class=\"day-wrapper today\">\n",
       " <span class=\"day\">14</span>\n",
       " <span class=\"activity-indicator\"></span>\n",
       " <div class=\"vh\">0<abbr class=\"unit\" title=\"hour\">h</abbr> 0<abbr class=\"unit\" title=\"minute\">m</abbr></div>\n",
       " </td>\n",
       " <td class=\"day-wrapper future\">\n",
       " <span class=\"day\">15</span>\n",
       " <span class=\"activity-indicator\"></span>\n",
       " <div class=\"vh\">0<abbr class=\"unit\" title=\"hour\">h</abbr> 0<abbr class=\"unit\" title=\"minute\">m</abbr></div>\n",
       " </td>\n",
       " <td class=\"day-wrapper future\">\n",
       " <span class=\"day\">16</span>\n",
       " <span class=\"activity-indicator\"></span>\n",
       " <div class=\"vh\">0<abbr class=\"unit\" title=\"hour\">h</abbr> 0<abbr class=\"unit\" title=\"minute\">m</abbr></div>\n",
       " </td>\n",
       " <td class=\"day-wrapper future\">\n",
       " <span class=\"day\">17</span>\n",
       " <span class=\"activity-indicator\"></span>\n",
       " <div class=\"vh\">0<abbr class=\"unit\" title=\"hour\">h</abbr> 0<abbr class=\"unit\" title=\"minute\">m</abbr></div>\n",
       " </td>\n",
       " <td class=\"day-wrapper future\">\n",
       " <span class=\"day\">18</span>\n",
       " <span class=\"activity-indicator\"></span>\n",
       " <div class=\"vh\">0<abbr class=\"unit\" title=\"hour\">h</abbr> 0<abbr class=\"unit\" title=\"minute\">m</abbr></div>\n",
       " </td>\n",
       " <td class=\"day-wrapper future\">\n",
       " <span class=\"day\">19</span>\n",
       " <span class=\"activity-indicator\"></span>\n",
       " <div class=\"vh\">0<abbr class=\"unit\" title=\"hour\">h</abbr> 0<abbr class=\"unit\" title=\"minute\">m</abbr></div>\n",
       " </td>\n",
       " </tr>\n",
       " </tbody>\n",
       " </table>]"
      ]
     },
     "execution_count": 23,
     "metadata": {},
     "output_type": "execute_result"
    }
   ],
   "source": [
    "soup.select(\"table\") #we can access their last four weeks of activity by time "
   ]
  },
  {
   "cell_type": "code",
   "execution_count": null,
   "metadata": {},
   "outputs": [],
   "source": []
  }
 ],
 "metadata": {
  "kernelspec": {
   "display_name": "Python 3",
   "language": "python",
   "name": "python3"
  },
  "language_info": {
   "codemirror_mode": {
    "name": "ipython",
    "version": 3
   },
   "file_extension": ".py",
   "mimetype": "text/x-python",
   "name": "python",
   "nbconvert_exporter": "python",
   "pygments_lexer": "ipython3",
   "version": "3.8.2"
  }
 },
 "nbformat": 4,
 "nbformat_minor": 4
}
