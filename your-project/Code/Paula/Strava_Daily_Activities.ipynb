{
 "cells": [
  {
   "cell_type": "code",
   "execution_count": 25,
   "metadata": {},
   "outputs": [],
   "source": [
    "#importing libraries\n",
    "\n",
    "import pandas as pd\n",
    "import requests\n",
    "import re \n",
    "import json \n",
    "from bs4 import BeautifulSoup as Soup"
   ]
  },
  {
   "cell_type": "code",
   "execution_count": 26,
   "metadata": {},
   "outputs": [],
   "source": [
    "#Since I'm having trouble accessing top profiles activities, let's try to grab it from the website."
   ]
  },
  {
   "cell_type": "code",
   "execution_count": 27,
   "metadata": {},
   "outputs": [],
   "source": [
    "url = \"https://www.strava.com/pros/1646454\"\n",
    "\n",
    "#let's request the info\n",
    "page = requests.get(url)\n",
    "soup = Soup(page.content, \"html.parser\")"
   ]
  },
  {
   "cell_type": "code",
   "execution_count": 28,
   "metadata": {},
   "outputs": [],
   "source": [
    "following = [element.get_text() for element in soup.find_all(\"div\", class_=\"section connections\")[0].select(\"a\")]"
   ]
  },
  {
   "cell_type": "code",
   "execution_count": null,
   "metadata": {},
   "outputs": [],
   "source": [
    "#Are pro athletes considered better if they have more followers?"
   ]
  },
  {
   "cell_type": "code",
   "execution_count": 29,
   "metadata": {},
   "outputs": [
    {
     "data": {
      "text/plain": [
       "['93', '1448']"
      ]
     },
     "execution_count": 29,
     "metadata": {},
     "output_type": "execute_result"
    }
   ],
   "source": [
    "following #number of people they follow and number of people following them"
   ]
  },
  {
   "cell_type": "code",
   "execution_count": 23,
   "metadata": {},
   "outputs": [
    {
     "data": {
      "text/plain": [
       "[<table>\n",
       " <caption class=\"vh\">Last four weeks of activity</caption>\n",
       " <thead>\n",
       " <tr>\n",
       " <th scope=\"col\">\n",
       " <div class=\"weekday\">M</div>\n",
       " </th>\n",
       " <th scope=\"col\">\n",
       " <div class=\"weekday\">T</div>\n",
       " </th>\n",
       " <th scope=\"col\">\n",
       " <div class=\"weekday\">W</div>\n",
       " </th>\n",
       " <th scope=\"col\">\n",
       " <div class=\"weekday\">T</div>\n",
       " </th>\n",
       " <th scope=\"col\">\n",
       " <div class=\"weekday\">F</div>\n",
       " </th>\n",
       " <th scope=\"col\">\n",
       " <div class=\"weekday\">S</div>\n",
       " </th>\n",
       " <th scope=\"col\">\n",
       " <div class=\"weekday\">S</div>\n",
       " </th>\n",
       " </tr>\n",
       " </thead>\n",
       " <tbody>\n",
       " <tr>\n",
       " <td class=\"day-wrapper\">\n",
       " <span class=\"day\">22</span>\n",
       " <span class=\"activity-indicator\"></span>\n",
       " <div class=\"vh\">0<abbr class=\"unit\" title=\"hour\">h</abbr> 0<abbr class=\"unit\" title=\"minute\">m</abbr></div>\n",
       " </td>\n",
       " <td class=\"day-wrapper\">\n",
       " <span class=\"day\">23</span>\n",
       " <span class=\"activity-indicator\"></span>\n",
       " <div class=\"vh\">0<abbr class=\"unit\" title=\"hour\">h</abbr> 0<abbr class=\"unit\" title=\"minute\">m</abbr></div>\n",
       " </td>\n",
       " <td class=\"day-wrapper highlighted\">\n",
       " <span class=\"day\">24</span>\n",
       " <span class=\"activity-indicator\" style=\"height: 10px; width: 10px;\"></span>\n",
       " <div class=\"vh\">0<abbr class=\"unit\" title=\"hour\">h</abbr> 30<abbr class=\"unit\" title=\"minute\">m</abbr></div>\n",
       " </td>\n",
       " <td class=\"day-wrapper\">\n",
       " <span class=\"day\">25</span>\n",
       " <span class=\"activity-indicator\"></span>\n",
       " <div class=\"vh\">0<abbr class=\"unit\" title=\"hour\">h</abbr> 0<abbr class=\"unit\" title=\"minute\">m</abbr></div>\n",
       " </td>\n",
       " <td class=\"day-wrapper\">\n",
       " <span class=\"day\">26</span>\n",
       " <span class=\"activity-indicator\"></span>\n",
       " <div class=\"vh\">0<abbr class=\"unit\" title=\"hour\">h</abbr> 0<abbr class=\"unit\" title=\"minute\">m</abbr></div>\n",
       " </td>\n",
       " <td class=\"day-wrapper\">\n",
       " <span class=\"day\">27</span>\n",
       " <span class=\"activity-indicator\"></span>\n",
       " <div class=\"vh\">0<abbr class=\"unit\" title=\"hour\">h</abbr> 0<abbr class=\"unit\" title=\"minute\">m</abbr></div>\n",
       " </td>\n",
       " <td class=\"day-wrapper\">\n",
       " <span class=\"day\">28</span>\n",
       " <span class=\"activity-indicator\"></span>\n",
       " <div class=\"vh\">0<abbr class=\"unit\" title=\"hour\">h</abbr> 0<abbr class=\"unit\" title=\"minute\">m</abbr></div>\n",
       " </td>\n",
       " </tr>\n",
       " <tr>\n",
       " <td class=\"day-wrapper\">\n",
       " <span class=\"day\">29</span>\n",
       " <span class=\"activity-indicator\"></span>\n",
       " <div class=\"vh\">0<abbr class=\"unit\" title=\"hour\">h</abbr> 0<abbr class=\"unit\" title=\"minute\">m</abbr></div>\n",
       " </td>\n",
       " <td class=\"day-wrapper\">\n",
       " <span class=\"day\">30</span>\n",
       " <span class=\"activity-indicator\"></span>\n",
       " <div class=\"vh\">0<abbr class=\"unit\" title=\"hour\">h</abbr> 0<abbr class=\"unit\" title=\"minute\">m</abbr></div>\n",
       " </td>\n",
       " <td class=\"day-wrapper highlighted\">\n",
       " <span class=\"day\">1</span>\n",
       " <span class=\"activity-indicator\" style=\"height: 19px; width: 19px;\"></span>\n",
       " <div class=\"vh\">3<abbr class=\"unit\" title=\"hour\">h</abbr> 26<abbr class=\"unit\" title=\"minute\">m</abbr></div>\n",
       " </td>\n",
       " <td class=\"day-wrapper\">\n",
       " <span class=\"day\">2</span>\n",
       " <span class=\"activity-indicator\"></span>\n",
       " <div class=\"vh\">0<abbr class=\"unit\" title=\"hour\">h</abbr> 0<abbr class=\"unit\" title=\"minute\">m</abbr></div>\n",
       " </td>\n",
       " <td class=\"day-wrapper highlighted\">\n",
       " <span class=\"day\">3</span>\n",
       " <span class=\"activity-indicator\" style=\"height: 13px; width: 13px;\"></span>\n",
       " <div class=\"vh\">1<abbr class=\"unit\" title=\"hour\">h</abbr> 14<abbr class=\"unit\" title=\"minute\">m</abbr></div>\n",
       " </td>\n",
       " <td class=\"day-wrapper highlighted\">\n",
       " <span class=\"day\">4</span>\n",
       " <span class=\"activity-indicator\" style=\"height: 22px; width: 22px;\"></span>\n",
       " <div class=\"vh\">4<abbr class=\"unit\" title=\"hour\">h</abbr> 19<abbr class=\"unit\" title=\"minute\">m</abbr></div>\n",
       " </td>\n",
       " <td class=\"day-wrapper\">\n",
       " <span class=\"day\">5</span>\n",
       " <span class=\"activity-indicator\"></span>\n",
       " <div class=\"vh\">0<abbr class=\"unit\" title=\"hour\">h</abbr> 0<abbr class=\"unit\" title=\"minute\">m</abbr></div>\n",
       " </td>\n",
       " </tr>\n",
       " <tr>\n",
       " <td class=\"day-wrapper\">\n",
       " <span class=\"day\">6</span>\n",
       " <span class=\"activity-indicator\"></span>\n",
       " <div class=\"vh\">0<abbr class=\"unit\" title=\"hour\">h</abbr> 0<abbr class=\"unit\" title=\"minute\">m</abbr></div>\n",
       " </td>\n",
       " <td class=\"day-wrapper\">\n",
       " <span class=\"day\">7</span>\n",
       " <span class=\"activity-indicator\"></span>\n",
       " <div class=\"vh\">0<abbr class=\"unit\" title=\"hour\">h</abbr> 0<abbr class=\"unit\" title=\"minute\">m</abbr></div>\n",
       " </td>\n",
       " <td class=\"day-wrapper\">\n",
       " <span class=\"day\">8</span>\n",
       " <span class=\"activity-indicator\"></span>\n",
       " <div class=\"vh\">0<abbr class=\"unit\" title=\"hour\">h</abbr> 0<abbr class=\"unit\" title=\"minute\">m</abbr></div>\n",
       " </td>\n",
       " <td class=\"day-wrapper highlighted\">\n",
       " <span class=\"day\">9</span>\n",
       " <span class=\"activity-indicator\" style=\"height: 21px; width: 21px;\"></span>\n",
       " <div class=\"vh\">3<abbr class=\"unit\" title=\"hour\">h</abbr> 55<abbr class=\"unit\" title=\"minute\">m</abbr></div>\n",
       " </td>\n",
       " <td class=\"day-wrapper\">\n",
       " <span class=\"day\">10</span>\n",
       " <span class=\"activity-indicator\"></span>\n",
       " <div class=\"vh\">0<abbr class=\"unit\" title=\"hour\">h</abbr> 0<abbr class=\"unit\" title=\"minute\">m</abbr></div>\n",
       " </td>\n",
       " <td class=\"day-wrapper highlighted\">\n",
       " <span class=\"day\">11</span>\n",
       " <span class=\"activity-indicator\" style=\"height: 13px; width: 13px;\"></span>\n",
       " <div class=\"vh\">1<abbr class=\"unit\" title=\"hour\">h</abbr> 18<abbr class=\"unit\" title=\"minute\">m</abbr></div>\n",
       " </td>\n",
       " <td class=\"day-wrapper\">\n",
       " <span class=\"day\">12</span>\n",
       " <span class=\"activity-indicator\"></span>\n",
       " <div class=\"vh\">0<abbr class=\"unit\" title=\"hour\">h</abbr> 0<abbr class=\"unit\" title=\"minute\">m</abbr></div>\n",
       " </td>\n",
       " </tr>\n",
       " <tr>\n",
       " <td class=\"day-wrapper\">\n",
       " <span class=\"day\">13</span>\n",
       " <span class=\"activity-indicator\"></span>\n",
       " <div class=\"vh\">0<abbr class=\"unit\" title=\"hour\">h</abbr> 0<abbr class=\"unit\" title=\"minute\">m</abbr></div>\n",
       " </td>\n",
       " <td class=\"day-wrapper today\">\n",
       " <span class=\"day\">14</span>\n",
       " <span class=\"activity-indicator\"></span>\n",
       " <div class=\"vh\">0<abbr class=\"unit\" title=\"hour\">h</abbr> 0<abbr class=\"unit\" title=\"minute\">m</abbr></div>\n",
       " </td>\n",
       " <td class=\"day-wrapper future\">\n",
       " <span class=\"day\">15</span>\n",
       " <span class=\"activity-indicator\"></span>\n",
       " <div class=\"vh\">0<abbr class=\"unit\" title=\"hour\">h</abbr> 0<abbr class=\"unit\" title=\"minute\">m</abbr></div>\n",
       " </td>\n",
       " <td class=\"day-wrapper future\">\n",
       " <span class=\"day\">16</span>\n",
       " <span class=\"activity-indicator\"></span>\n",
       " <div class=\"vh\">0<abbr class=\"unit\" title=\"hour\">h</abbr> 0<abbr class=\"unit\" title=\"minute\">m</abbr></div>\n",
       " </td>\n",
       " <td class=\"day-wrapper future\">\n",
       " <span class=\"day\">17</span>\n",
       " <span class=\"activity-indicator\"></span>\n",
       " <div class=\"vh\">0<abbr class=\"unit\" title=\"hour\">h</abbr> 0<abbr class=\"unit\" title=\"minute\">m</abbr></div>\n",
       " </td>\n",
       " <td class=\"day-wrapper future\">\n",
       " <span class=\"day\">18</span>\n",
       " <span class=\"activity-indicator\"></span>\n",
       " <div class=\"vh\">0<abbr class=\"unit\" title=\"hour\">h</abbr> 0<abbr class=\"unit\" title=\"minute\">m</abbr></div>\n",
       " </td>\n",
       " <td class=\"day-wrapper future\">\n",
       " <span class=\"day\">19</span>\n",
       " <span class=\"activity-indicator\"></span>\n",
       " <div class=\"vh\">0<abbr class=\"unit\" title=\"hour\">h</abbr> 0<abbr class=\"unit\" title=\"minute\">m</abbr></div>\n",
       " </td>\n",
       " </tr>\n",
       " </tbody>\n",
       " </table>]"
      ]
     },
     "execution_count": 23,
     "metadata": {},
     "output_type": "execute_result"
    }
   ],
   "source": [
    "soup.select(\"table\") #we can access their last four weeks of activity by time "
   ]
  },
  {
   "cell_type": "code",
   "execution_count": 30,
   "metadata": {},
   "outputs": [],
   "source": [
    "x = soup.select(\"table\")"
   ]
  },
  {
   "cell_type": "code",
   "execution_count": 46,
   "metadata": {},
   "outputs": [
    {
     "data": {
      "text/plain": [
       "'3h 26m'"
      ]
     },
     "execution_count": 46,
     "metadata": {},
     "output_type": "execute_result"
    }
   ],
   "source": [
    "x[0].select(\"div.vh\")[9].get_text() #this displays the time of the ride for the day 9 of the last 4 weeks "
   ]
  },
  {
   "cell_type": "code",
   "execution_count": 50,
   "metadata": {},
   "outputs": [
    {
     "data": {
      "text/plain": [
       "'1'"
      ]
     },
     "execution_count": 50,
     "metadata": {},
     "output_type": "execute_result"
    }
   ],
   "source": [
    "x[0].select(\"td.day-wrapper span.day\")[9].get_text() #this displays the day of the month"
   ]
  },
  {
   "cell_type": "code",
   "execution_count": null,
   "metadata": {},
   "outputs": [],
   "source": [
    "#We can analyze and compare the average time riding for the last 4 weeks \n",
    "#We can try to understand if people with larger followers and longer rides are better positioned in the ranking or not."
   ]
  }
 ],
 "metadata": {
  "kernelspec": {
   "display_name": "Python 3",
   "language": "python",
   "name": "python3"
  },
  "language_info": {
   "codemirror_mode": {
    "name": "ipython",
    "version": 3
   },
   "file_extension": ".py",
   "mimetype": "text/x-python",
   "name": "python",
   "nbconvert_exporter": "python",
   "pygments_lexer": "ipython3",
   "version": "3.7.4"
  }
 },
 "nbformat": 4,
 "nbformat_minor": 4
}
