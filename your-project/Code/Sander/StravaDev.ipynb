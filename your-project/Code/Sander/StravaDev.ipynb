{
 "cells": [
  {
   "cell_type": "markdown",
   "metadata": {},
   "source": [
    "# Extracting data (Strava)"
   ]
  },
  {
   "cell_type": "code",
   "execution_count": null,
   "metadata": {},
   "outputs": [],
   "source": [
    "# In which countries are these activities most popular?\n",
    "# What is the average duration by type of activity and country?\n",
    "# Most popular activity names\n",
    "# At what times of the day do people mostly practice them?"
   ]
  },
  {
   "cell_type": "code",
   "execution_count": 1,
   "metadata": {},
   "outputs": [],
   "source": [
    "# Import libraries\n",
    "import pandas as pd\n",
    "import requests \n",
    "import numpy as np\n",
    "import json\n",
    "from pandas.io.json import json_normalize"
   ]
  },
  {
   "cell_type": "markdown",
   "metadata": {},
   "source": [
    "1. Grouped by country"
   ]
  },
  {
   "cell_type": "code",
   "execution_count": 41,
   "metadata": {},
   "outputs": [
    {
     "name": "stdout",
     "output_type": "stream",
     "text": [
      "b'{\"id\":12274527,\"resource_state\":3,\"name\":\"Ca\\' d\\'aria\",\"activity_type\":\"Ride\",\"distance\":1363.7,\"average_grade\":12.9,\"maximum_grade\":25.4,\"elevation_high\":800.4,\"elevation_low\":624.8,\"start_latlng\":[44.102316,11.043386],\"end_latlng\":[44.098431,11.034517],\"start_latitude\":44.102316,\"start_longitude\":11.043386,\"end_latitude\":44.098431,\"end_longitude\":11.034517,\"climb_category\":2,\"city\":null,\"state\":\"Emilia-Romagna\",\"country\":\"Italy\",\"private\":false,\"hazardous\":false,\"starred\":false,\"created_at\":\"2016-06-04T18:09:52Z\",\"updated_at\":\"2020-07-10T10:18:36Z\",\"total_elevation_gain\":175.6,\"map\":{\"id\":\"s12274527\",\"polyline\":\"mvdlGc|kbAB@NKL?LDFL@TPx@NfA`@hA`@hB^z@J\\\\\\\\j@|@Rj@JJLFhAETEHUXoA@CPA@PEjFB`@X|BDb@C^@PBBF@HAJILUv@_DVg@TWLELAJBV\\\\\\\\Rf@H^@ZChBHbDC|@IhABr@F~@ALSvAKRK^u@zA]\\\\\\\\DHDDt@TLJRRNALH@Fj@`ABJ\",\"resource_state\":3},\"effort_count\":28,\"athlete_count\":15,\"star_count\":4,\"athlete_segment_stats\":{\"pr_elapsed_time\":null,\"pr_date\":null,\"pr_activity_id\":null,\"effort_count\":0},\"local_legend\":null}'\n"
     ]
    }
   ],
   "source": [
    "url = \"https://www.strava.com/api/v3/segments/12274527/\"\n",
    "\n",
    "payload = {}\n",
    "headers = {\n",
    "  'Authorization': 'Bearer TokenXXX'\n",
    "}\n",
    "\n",
    "response = requests.request(\"GET\", url, headers=headers, data = payload)\n",
    "\n",
    "print(response.text.encode('utf8'))"
   ]
  },
  {
   "cell_type": "code",
   "execution_count": 42,
   "metadata": {},
   "outputs": [
    {
     "data": {
      "text/plain": [
       "{'id': 12274527,\n",
       " 'resource_state': 3,\n",
       " 'name': \"Ca' d'aria\",\n",
       " 'activity_type': 'Ride',\n",
       " 'distance': 1363.7,\n",
       " 'average_grade': 12.9,\n",
       " 'maximum_grade': 25.4,\n",
       " 'elevation_high': 800.4,\n",
       " 'elevation_low': 624.8,\n",
       " 'start_latlng': [44.102316, 11.043386],\n",
       " 'end_latlng': [44.098431, 11.034517],\n",
       " 'start_latitude': 44.102316,\n",
       " 'start_longitude': 11.043386,\n",
       " 'end_latitude': 44.098431,\n",
       " 'end_longitude': 11.034517,\n",
       " 'climb_category': 2,\n",
       " 'city': None,\n",
       " 'state': 'Emilia-Romagna',\n",
       " 'country': 'Italy',\n",
       " 'private': False,\n",
       " 'hazardous': False,\n",
       " 'starred': False,\n",
       " 'created_at': '2016-06-04T18:09:52Z',\n",
       " 'updated_at': '2020-07-10T10:18:36Z',\n",
       " 'total_elevation_gain': 175.6,\n",
       " 'map': {'id': 's12274527',\n",
       "  'polyline': 'mvdlGc|kbAB@NKL?LDFL@TPx@NfA`@hA`@hB^z@J\\\\j@|@Rj@JJLFhAETEHUXoA@CPA@PEjFB`@X|BDb@C^@PBBF@HAJILUv@_DVg@TWLELAJBV\\\\Rf@H^@ZChBHbDC|@IhABr@F~@ALSvAKRK^u@zA]\\\\DHDDt@TLJRRNALH@Fj@`ABJ',\n",
       "  'resource_state': 3},\n",
       " 'effort_count': 28,\n",
       " 'athlete_count': 15,\n",
       " 'star_count': 4,\n",
       " 'athlete_segment_stats': {'pr_elapsed_time': None,\n",
       "  'pr_date': None,\n",
       "  'pr_activity_id': None,\n",
       "  'effort_count': 0},\n",
       " 'local_legend': None}"
      ]
     },
     "execution_count": 42,
     "metadata": {},
     "output_type": "execute_result"
    }
   ],
   "source": [
    "# Clean data\n",
    "results = response.json()\n",
    "results"
   ]
  },
  {
   "cell_type": "code",
   "execution_count": null,
   "metadata": {},
   "outputs": [],
   "source": []
  },
  {
   "cell_type": "code",
   "execution_count": null,
   "metadata": {},
   "outputs": [],
   "source": []
  }
 ],
 "metadata": {
  "kernelspec": {
   "display_name": "Python 3",
   "language": "python",
   "name": "python3"
  },
  "language_info": {
   "codemirror_mode": {
    "name": "ipython",
    "version": 3
   },
   "file_extension": ".py",
   "mimetype": "text/x-python",
   "name": "python",
   "nbconvert_exporter": "python",
   "pygments_lexer": "ipython3",
   "version": "3.7.4"
  }
 },
 "nbformat": 4,
 "nbformat_minor": 2
}
