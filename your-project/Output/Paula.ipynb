{
 "cells": [
  {
   "cell_type": "markdown",
   "metadata": {},
   "source": [
    "### This countries will be in the next podium at the Olympic games in 2021 for cyclism."
   ]
  },
  {
   "cell_type": "markdown",
   "metadata": {},
   "source": [
    "#####  I think most of us have experienced watching a Cyclism competition in TV, at 3PM, on summer, after a huge family gathering. Yes, I also didn't understand the hype old people (at the time) had around this sport. Yes, I also fell asleep. \n",
    "\n",
    "##### What I didn't know was that after some years, I would also be one of this weird old people to put on some fancy workout clothes and go biking for an entire morning feeling awesome. We all do. That's why we wanted to understand a little bit better how people exercise in Spain, how pro athletes in Cyclism behave, and if there is any relationship between these two variables and the amount of medals a country wins in the Olympic games were related.\n",
    "\n",
    "- Are countries who have a large gathering of people practising a sport also big winners in the Olympic games?\n",
    "- Is the amount of top athletes per country related to the amount of medals that same region gets in the Olympic games?"
   ]
  },
  {
   "cell_type": "markdown",
   "metadata": {},
   "source": [
    "### The Dataset :\n",
    "\n",
    "We took Strava as our information provider because this app is an internet service for tracking human exercise which incorporates social network features. It is mostly used for cycling and running using GPS data.\n",
    "\n",
    "To analyze Strava Info we did web scraping of the page referring to the top athletes in their application. https://www.strava.com/pros\n",
    "\n",
    "Pro athletes in Strava are professional athletes. A Strava Pro Badge is an elite distinction only conferred upon a very limited number of athletes competing at the absolute top level of their discipline.\n",
    "\n",
    "Several websites has recommendation of which athletes to follow like this one, https://www.cyclingweekly.com/news/racing/tour-de-france/pro-riders-to-follow-on-strava-180285, however, we were curious to know what was the profile of the pro athletes on Strava. \n",
    "\n",
    "- How many of them are pros?\n",
    "- How are they ranked? Are they rewarded by activity and number of followers, or not?\n",
    "- Which countries have more pro athletes in Strava?\n"
   ]
  },
  {
   "cell_type": "markdown",
   "metadata": {},
   "source": [
    "Strava has 1956 pro athletes in their page, this are a mix in between cyclist, runners and athletes. We extracted the country information as well as their region to understand"
   ]
  },
  {
   "cell_type": "markdown",
   "metadata": {},
   "source": [
    "<img src='Images/Info_Countries_Areas.png'>"
   ]
  },
  {
   "cell_type": "markdown",
   "metadata": {},
   "source": [
    "Out of this table, we count which country had more pro athletes. For a smoother renderization, we took the 500 first athletes since the top results didn't change much from the whole representation"
   ]
  },
  {
   "cell_type": "markdown",
   "metadata": {},
   "source": [
    "<img src='Images/Heatmap pro athletes.png'>"
   ]
  },
  {
   "cell_type": "markdown",
   "metadata": {},
   "source": [
    "As we can see, United States, France, United Kingdom, Germany, Canada and Spain were the top 5 countries with more athletes. "
   ]
  },
  {
   "cell_type": "markdown",
   "metadata": {},
   "source": [
    "On the other hand, we wanted to understand how top athletes were ranked on the web page, to try to understand if the community was rewarding those athletes training more or those having more follorwers or not. "
   ]
  },
  {
   "cell_type": "markdown",
   "metadata": {},
   "source": [
    "<img src='Images/Strava Ranking vs Followers.png'>"
   ]
  },
  {
   "cell_type": "markdown",
   "metadata": {},
   "source": [
    "However, as we can see, we have ranked the athletes from 1 to 500 and there are no visible correlation between the amount of followers an athlete has or the amoun of activities performed in the last month with their position in the web page."
   ]
  },
  {
   "cell_type": "markdown",
   "metadata": {},
   "source": [
    "Almost every athlete performs between 5 to 25 activities per month and everyone is around 500 and 1000 followers, althought the accounts with extremely large followers, like we can see below, are not rewarded by this."
   ]
  },
  {
   "cell_type": "markdown",
   "metadata": {},
   "source": [
    "<img src='Images/Strava Ranking vs Followers outliers.png'>"
   ]
  },
  {
   "cell_type": "markdown",
   "metadata": {},
   "source": [
    "In conclussion, the system does not have rewarding system in the App and there are no promoted accounts either, wich make us think that the ranking system is completely random, but also a little bit unfair to those profiles ranking under the first 100 with apparently no reason. A good solution to make these Athletes more invested in this community will definitely be to make a rewarding program."
   ]
  }
 ],
 "metadata": {
  "kernelspec": {
   "display_name": "Python 3",
   "language": "python",
   "name": "python3"
  },
  "language_info": {
   "codemirror_mode": {
    "name": "ipython",
    "version": 3
   },
   "file_extension": ".py",
   "mimetype": "text/x-python",
   "name": "python",
   "nbconvert_exporter": "python",
   "pygments_lexer": "ipython3",
   "version": "3.7.4"
  }
 },
 "nbformat": 4,
 "nbformat_minor": 4
}
