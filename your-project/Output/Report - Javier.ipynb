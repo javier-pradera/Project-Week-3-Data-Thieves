{
 "cells": [
  {
   "cell_type": "markdown",
   "metadata": {},
   "source": [
    "## [PENDING] Title of the Project\n",
    "\n",
    "### Introduction\n",
    "\n",
    "How many of us have experienced watching a cycling competition on TV, at 3PM, in summer, after a huge family gathering? Yes, I also didn't understand the hype old people (at the time) had around this sport. Yes, I also fell asleep.\n",
    "\n",
    "What we probably didn't expect was that after some years, some of us would also be one of this weird old people to put on some fancy workout clothes and go cycling for an entire morning feeling awesome. That's why we wanted to understand  how people exercise in Spain, how pro athletes in cycling behave and if there is any relationship between these two variables and the amount of medals a country wins in the Olympic games.\n",
    "\n",
    "In order to answer to these concerns, we have carried out the following analysis:\n",
    "\n",
    "**1. Sports frequency in Spain:** analysis of the percentage of total population that regularly practices sports by autonomous community, age group and employment situation.\n",
    "\n",
    "**2. Pro athletes activity vs. number of followers:** analysis of the relationship between the number of followers and the activity frequency of Strava's pro athletes.\n",
    "\n",
    "**3. Pro athletes by country/nationality:** analysis of the number of Strava's pro athletes by region.\n",
    "\n",
    "**4. Pro athletes by country vs. medals in the Olympic games:** is the amount of Strava's pro athletes per country related to the amount of medals that same region gets in the Olympic games?\n",
    "\n",
    "### Sports frequency in Spain\n",
    "\n",
    "Based on a survey carried out by the INE in 2015, we will present an analysis of the percentage of the total population of each group that practices sports on a weekly basis by autonomous community, age group and employment situation.\n",
    "\n",
    "#### 1. Sports activities frequency by autonomous community\n",
    "\n",
    "In the heat map below, we can observe the **percentage of total population that practices sports on a weekly basis by autonomous community**, with the Basque Country, Catalonia and Madrid leading the country with 53.3%, 50.6% and 50.5%, respectively, of their total populations that practice sports on a weekly basis.\n",
    "\n",
    "<img src=\"Images/Heat Map by CCAA.png\" alt=\"Alt text that describes the graphic\" title=\"Title text\" />\n",
    "\n",
    "#### 2. Sports activities frequency by age group\n",
    "\n",
    "In the chart below, we can observe that the people that practice most sports are those between 15 and 19 years old, with 81.5% of the total population of this group exercising more than one time per week. This tendency gradually descends as life goes on, with only 9.6% of the eldest total population practicing sports on a weekly basis.\n",
    "\n",
    "<img src=\"Images/Weekly Activity by Age.png\" alt=\"Alt text that describes the graphic\" title=\"Title text\" />\n",
    "\n",
    "#### 3. Sports activities frequency by employment situation\n",
    "\n",
    "As it can be observed in the chart below, students are the ones that practice most sports on a weekly basis (probably due to their age), followed by far by workers an unempployed people.\n",
    "\n",
    "<img src=\"Images/Activity by employment situation.png\" alt=\"Alt text that describes the graphic\" title=\"Title text\" />\n",
    "\n",
    "### 4. Main conclusions\n",
    "\n",
    "Spain is a country with a very developed sports culture, with 81.5% of its youngest generation practicing sports on a weekly basis. This data is supported by the country's success in the last two decades in numerous sports specialties (football, tennis, basketball, cycling, Moto GP, etc.)."
   ]
  },
  {
   "cell_type": "code",
   "execution_count": null,
   "metadata": {},
   "outputs": [],
   "source": []
  }
 ],
 "metadata": {
  "kernelspec": {
   "display_name": "Python 3",
   "language": "python",
   "name": "python3"
  },
  "language_info": {
   "codemirror_mode": {
    "name": "ipython",
    "version": 3
   },
   "file_extension": ".py",
   "mimetype": "text/x-python",
   "name": "python",
   "nbconvert_exporter": "python",
   "pygments_lexer": "ipython3",
   "version": "3.7.4"
  }
 },
 "nbformat": 4,
 "nbformat_minor": 4
}
